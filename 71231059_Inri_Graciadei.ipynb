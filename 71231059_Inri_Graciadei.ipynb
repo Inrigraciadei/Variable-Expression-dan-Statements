{
  "nbformat": 4,
  "nbformat_minor": 0,
  "metadata": {
    "colab": {
      "provenance": []
    },
    "kernelspec": {
      "name": "python3",
      "display_name": "Python 3"
    },
    "language_info": {
      "name": "python"
    }
  },
  "cells": [
    {
      "cell_type": "markdown",
      "source": [
        "Soal 1"
      ],
      "metadata": {
        "id": "dnB3ohKTeex9"
      }
    },
    {
      "cell_type": "code",
      "source": [
        "berat_badan = int(input(\"Masukkan berat badan anda dalam kg: \"))\n",
        "tinggi_badan = float(input(\"Masukkan tinggi badan anda dalam meter: \"))\n",
        "rumus_bmi = berat_badan / (tinggi_badan * tinggi_badan)\n",
        "print(\"BMI anda adalah: \", round(rumus_bmi))"
      ],
      "metadata": {
        "colab": {
          "base_uri": "https://localhost:8080/"
        },
        "id": "VV3f75-xejea",
        "outputId": "cb425364-f16e-44af-81de-86cbb72a6850"
      },
      "execution_count": 1,
      "outputs": [
        {
          "output_type": "stream",
          "name": "stdout",
          "text": [
            "Masukkan berat badan anda dalam kg: 43\n",
            "Masukkan tinggi badan anda dalam meter: 1.53\n",
            "BMI anda adalah:  18\n"
          ]
        }
      ]
    },
    {
      "cell_type": "markdown",
      "source": [
        "Soal 2"
      ],
      "metadata": {
        "id": "c8XFoTCPe1x8"
      }
    },
    {
      "cell_type": "code",
      "source": [
        "x = int(input(\"Masukkan angka x: \"))\n",
        "fungsi_x = (2 * x ** 3) + (2 * x) + (15 / x)\n",
        "print(\"Hasil fungsinya yaitu: \", round(fungsi_x))"
      ],
      "metadata": {
        "colab": {
          "base_uri": "https://localhost:8080/"
        },
        "id": "T9eqfrUJe3pU",
        "outputId": "c40d93c1-4df9-4b22-9198-6c91c2d0bc87"
      },
      "execution_count": 2,
      "outputs": [
        {
          "output_type": "stream",
          "name": "stdout",
          "text": [
            "Masukkan angka x: 22\n",
            "Hasil fungsinya yaitu:  21341\n"
          ]
        }
      ]
    },
    {
      "cell_type": "markdown",
      "source": [
        "Soal 3"
      ],
      "metadata": {
        "id": "S-8zvpUffBvC"
      }
    },
    {
      "cell_type": "code",
      "source": [
        "gaji_per_jam = int(input(\"Masukkan gaji Budi per jam: \"))\n",
        "jam_kerja = int(input(\"Masukkan jumlah jam kerja Budi dalam seminggu: \"))\n",
        "\n",
        "gaji_sebelum_pajak = (jam_kerja * 5) * gaji_per_jam\n",
        "print(\"Gaji Budi sebelum kena pajak: \", gaji_sebelum_pajak)\n",
        "\n",
        "jumlah_pajak = gaji_sebelum_pajak * 0.14\n",
        "gaji_setelah_pajak = gaji_sebelum_pajak - jumlah_pajak\n",
        "print(\"Gaji Budi setelah kena pajak: \", round(gaji_setelah_pajak))\n",
        "\n",
        "belanja_pertama = gaji_setelah_pajak * 0.1\n",
        "sisa_pertama = gaji_setelah_pajak - belanja_pertama\n",
        "print(\"Jumlah uang yang digunakan Budi dalam belanja pertama: \", round(belanja_pertama))\n",
        "print(\"Sisa uang Budi setelah belanja pertama: \", round(sisa_pertama))\n",
        "\n",
        "belanja_kedua = gaji_setelah_pajak * 0.01\n",
        "sisa_kedua = sisa_pertama - belanja_kedua\n",
        "print(\"Jumlah uang yang digunakan Budi dalam belanja kedua: \", round(belanja_kedua))\n",
        "print(\"Sisa uang Budi setelah belanja kedua: \", round(sisa_kedua))\n",
        "\n",
        "sedekah = sisa_kedua * 0.25\n",
        "sisa_ketiga = sisa_kedua - sedekah\n",
        "print(\"Jumlah sedekah Budi: \", round(sedekah))\n",
        "print(\"Sisa uang Budi setelah sedekah: \", round(sisa_ketiga))\n",
        "\n",
        "per_seribu = sedekah\n",
        "while per_seribu % 1000 == 0 and per_seribu >= 1000 or per_seribu % 1000 != 0 and per_seribu >= 1000:\n",
        "    per_seribu -= 1000\n",
        "\n",
        "buat_yatim = (sedekah - per_seribu) * 0.3\n",
        "buat_dhuafa = (sedekah - per_seribu) * 0.7\n",
        "\n",
        "print(\"Jumlah uang untuk yatim: \", round(buat_yatim))\n",
        "print(\"Jumlah uang untuk dhuafa: \", round(buat_dhuafa))"
      ],
      "metadata": {
        "colab": {
          "base_uri": "https://localhost:8080/"
        },
        "id": "AV3l60JJfC3B",
        "outputId": "cf10436f-df26-4ce2-914f-462ab793b22b"
      },
      "execution_count": 3,
      "outputs": [
        {
          "output_type": "stream",
          "name": "stdout",
          "text": [
            "Masukkan gaji Budi per jam: 15000\n",
            "Masukkan jumlah jam kerja Budi dalam seminggu: 22\n",
            "Gaji Budi sebelum kena pajak:  1650000\n",
            "Gaji Budi setelah kena pajak:  1419000\n",
            "Jumlah uang yang digunakan Budi dalam belanja pertama:  141900\n",
            "Sisa uang Budi setelah belanja pertama:  1277100\n",
            "Jumlah uang yang digunakan Budi dalam belanja kedua:  14190\n",
            "Sisa uang Budi setelah belanja kedua:  1262910\n",
            "Jumlah sedekah Budi:  315728\n",
            "Sisa uang Budi setelah sedekah:  947182\n",
            "Jumlah uang untuk yatim:  94500\n",
            "Jumlah uang untuk dhuafa:  220500\n"
          ]
        }
      ]
    }
  ]
}